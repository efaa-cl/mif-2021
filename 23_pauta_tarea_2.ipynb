{
 "cells": [
  {
   "cell_type": "markdown",
   "metadata": {},
   "source": [
    "# Pauta Tarea 2"
   ]
  },
  {
   "cell_type": "markdown",
   "metadata": {},
   "source": [
    "## Librerías"
   ]
  },
  {
   "cell_type": "code",
   "execution_count": 1,
   "metadata": {
    "ExecuteTime": {
     "end_time": "2021-12-14T20:27:58.757895Z",
     "start_time": "2021-12-14T20:27:57.926882Z"
    }
   },
   "outputs": [],
   "source": [
    "import math\n",
    "import numpy as np\n",
    "import pandas as pd\n",
    "from scipy.stats import norm\n",
    "from dataclasses import dataclass\n",
    "from typing import Iterable, Tuple\n",
    "from scipy.optimize import minimize\n",
    "\n",
    "import modules.hull_white as hw"
   ]
  },
  {
   "cell_type": "markdown",
   "metadata": {},
   "source": [
    "## Importa Data"
   ]
  },
  {
   "cell_type": "code",
   "execution_count": 2,
   "metadata": {
    "ExecuteTime": {
     "end_time": "2021-12-14T20:27:58.795736Z",
     "start_time": "2021-12-14T20:27:58.761855Z"
    }
   },
   "outputs": [],
   "source": [
    "data = pd.read_excel(\n",
    "    'data_enunciado_tarea_2.xlsx',\n",
    "    sheet_name='Sheet1',\n",
    "    usecols='A:D',\n",
    ")\n",
    "data.columns = ['maturity', 'tasa_swap', 'df', 'cap_vol']"
   ]
  },
  {
   "cell_type": "markdown",
   "metadata": {},
   "source": [
    "Formato para el `DataFrame`."
   ]
  },
  {
   "cell_type": "code",
   "execution_count": 3,
   "metadata": {
    "ExecuteTime": {
     "end_time": "2021-12-14T20:27:58.826130Z",
     "start_time": "2021-12-14T20:27:58.798041Z"
    }
   },
   "outputs": [],
   "source": [
    "frmt = {\n",
    "    'maturity': '{:.2f}',\n",
    "    'tasa_swap': '{:.4%}',\n",
    "    'df': '{:.8%}',\n",
    "    'cap_vol': '{:.5%}'\n",
    "}"
   ]
  },
  {
   "cell_type": "markdown",
   "metadata": {},
   "source": [
    "Se visualiza."
   ]
  },
  {
   "cell_type": "code",
   "execution_count": 4,
   "metadata": {
    "ExecuteTime": {
     "end_time": "2021-12-14T20:27:59.287077Z",
     "start_time": "2021-12-14T20:27:58.828918Z"
    }
   },
   "outputs": [
    {
     "data": {
      "text/html": [
       "<style  type=\"text/css\" >\n",
       "</style><table id=\"T_5414b62e_5d1c_11ec_87ce_02cba411ec9d\" ><thead>    <tr>        <th class=\"blank level0\" ></th>        <th class=\"col_heading level0 col0\" >maturity</th>        <th class=\"col_heading level0 col1\" >tasa_swap</th>        <th class=\"col_heading level0 col2\" >df</th>        <th class=\"col_heading level0 col3\" >cap_vol</th>    </tr></thead><tbody>\n",
       "                <tr>\n",
       "                        <th id=\"T_5414b62e_5d1c_11ec_87ce_02cba411ec9dlevel0_row0\" class=\"row_heading level0 row0\" >0</th>\n",
       "                        <td id=\"T_5414b62e_5d1c_11ec_87ce_02cba411ec9drow0_col0\" class=\"data row0 col0\" >0.25</td>\n",
       "                        <td id=\"T_5414b62e_5d1c_11ec_87ce_02cba411ec9drow0_col1\" class=\"data row0 col1\" >2.1800%</td>\n",
       "                        <td id=\"T_5414b62e_5d1c_11ec_87ce_02cba411ec9drow0_col2\" class=\"data row0 col2\" >99.45795415%</td>\n",
       "                        <td id=\"T_5414b62e_5d1c_11ec_87ce_02cba411ec9drow0_col3\" class=\"data row0 col3\" >nan%</td>\n",
       "            </tr>\n",
       "            <tr>\n",
       "                        <th id=\"T_5414b62e_5d1c_11ec_87ce_02cba411ec9dlevel0_row1\" class=\"row_heading level0 row1\" >1</th>\n",
       "                        <td id=\"T_5414b62e_5d1c_11ec_87ce_02cba411ec9drow1_col0\" class=\"data row1 col0\" >0.50</td>\n",
       "                        <td id=\"T_5414b62e_5d1c_11ec_87ce_02cba411ec9drow1_col1\" class=\"data row1 col1\" >2.3177%</td>\n",
       "                        <td id=\"T_5414b62e_5d1c_11ec_87ce_02cba411ec9drow1_col2\" class=\"data row1 col2\" >98.85094864%</td>\n",
       "                        <td id=\"T_5414b62e_5d1c_11ec_87ce_02cba411ec9drow1_col3\" class=\"data row1 col3\" >0.04560%</td>\n",
       "            </tr>\n",
       "            <tr>\n",
       "                        <th id=\"T_5414b62e_5d1c_11ec_87ce_02cba411ec9dlevel0_row2\" class=\"row_heading level0 row2\" >2</th>\n",
       "                        <td id=\"T_5414b62e_5d1c_11ec_87ce_02cba411ec9drow2_col0\" class=\"data row2 col0\" >0.75</td>\n",
       "                        <td id=\"T_5414b62e_5d1c_11ec_87ce_02cba411ec9drow2_col1\" class=\"data row2 col1\" >2.4420%</td>\n",
       "                        <td id=\"T_5414b62e_5d1c_11ec_87ce_02cba411ec9drow2_col2\" class=\"data row2 col2\" >98.18987496%</td>\n",
       "                        <td id=\"T_5414b62e_5d1c_11ec_87ce_02cba411ec9drow2_col3\" class=\"data row2 col3\" >0.10590%</td>\n",
       "            </tr>\n",
       "            <tr>\n",
       "                        <th id=\"T_5414b62e_5d1c_11ec_87ce_02cba411ec9dlevel0_row3\" class=\"row_heading level0 row3\" >3</th>\n",
       "                        <td id=\"T_5414b62e_5d1c_11ec_87ce_02cba411ec9drow3_col0\" class=\"data row3 col0\" >1.00</td>\n",
       "                        <td id=\"T_5414b62e_5d1c_11ec_87ce_02cba411ec9drow3_col1\" class=\"data row3 col1\" >2.5550%</td>\n",
       "                        <td id=\"T_5414b62e_5d1c_11ec_87ce_02cba411ec9drow3_col2\" class=\"data row3 col2\" >97.48343859%</td>\n",
       "                        <td id=\"T_5414b62e_5d1c_11ec_87ce_02cba411ec9drow3_col3\" class=\"data row3 col3\" >0.18590%</td>\n",
       "            </tr>\n",
       "            <tr>\n",
       "                        <th id=\"T_5414b62e_5d1c_11ec_87ce_02cba411ec9dlevel0_row4\" class=\"row_heading level0 row4\" >4</th>\n",
       "                        <td id=\"T_5414b62e_5d1c_11ec_87ce_02cba411ec9drow4_col0\" class=\"data row4 col0\" >1.25</td>\n",
       "                        <td id=\"T_5414b62e_5d1c_11ec_87ce_02cba411ec9drow4_col1\" class=\"data row4 col1\" >2.6586%</td>\n",
       "                        <td id=\"T_5414b62e_5d1c_11ec_87ce_02cba411ec9drow4_col2\" class=\"data row4 col2\" >96.73842526%</td>\n",
       "                        <td id=\"T_5414b62e_5d1c_11ec_87ce_02cba411ec9drow4_col3\" class=\"data row4 col3\" >0.28870%</td>\n",
       "            </tr>\n",
       "            <tr>\n",
       "                        <th id=\"T_5414b62e_5d1c_11ec_87ce_02cba411ec9dlevel0_row5\" class=\"row_heading level0 row5\" >5</th>\n",
       "                        <td id=\"T_5414b62e_5d1c_11ec_87ce_02cba411ec9drow5_col0\" class=\"data row5 col0\" >1.50</td>\n",
       "                        <td id=\"T_5414b62e_5d1c_11ec_87ce_02cba411ec9drow5_col1\" class=\"data row5 col1\" >2.7546%</td>\n",
       "                        <td id=\"T_5414b62e_5d1c_11ec_87ce_02cba411ec9drow5_col2\" class=\"data row5 col2\" >95.95982497%</td>\n",
       "                        <td id=\"T_5414b62e_5d1c_11ec_87ce_02cba411ec9drow5_col3\" class=\"data row5 col3\" >0.41570%</td>\n",
       "            </tr>\n",
       "            <tr>\n",
       "                        <th id=\"T_5414b62e_5d1c_11ec_87ce_02cba411ec9dlevel0_row6\" class=\"row_heading level0 row6\" >6</th>\n",
       "                        <td id=\"T_5414b62e_5d1c_11ec_87ce_02cba411ec9drow6_col0\" class=\"data row6 col0\" >1.75</td>\n",
       "                        <td id=\"T_5414b62e_5d1c_11ec_87ce_02cba411ec9drow6_col1\" class=\"data row6 col1\" >2.8451%</td>\n",
       "                        <td id=\"T_5414b62e_5d1c_11ec_87ce_02cba411ec9drow6_col2\" class=\"data row6 col2\" >95.15030816%</td>\n",
       "                        <td id=\"T_5414b62e_5d1c_11ec_87ce_02cba411ec9drow6_col3\" class=\"data row6 col3\" >0.56620%</td>\n",
       "            </tr>\n",
       "            <tr>\n",
       "                        <th id=\"T_5414b62e_5d1c_11ec_87ce_02cba411ec9dlevel0_row7\" class=\"row_heading level0 row7\" >7</th>\n",
       "                        <td id=\"T_5414b62e_5d1c_11ec_87ce_02cba411ec9drow7_col0\" class=\"data row7 col0\" >2.00</td>\n",
       "                        <td id=\"T_5414b62e_5d1c_11ec_87ce_02cba411ec9drow7_col1\" class=\"data row7 col1\" >2.9320%</td>\n",
       "                        <td id=\"T_5414b62e_5d1c_11ec_87ce_02cba411ec9drow7_col2\" class=\"data row7 col2\" >94.31088166%</td>\n",
       "                        <td id=\"T_5414b62e_5d1c_11ec_87ce_02cba411ec9drow7_col3\" class=\"data row7 col3\" >0.73640%</td>\n",
       "            </tr>\n",
       "            <tr>\n",
       "                        <th id=\"T_5414b62e_5d1c_11ec_87ce_02cba411ec9dlevel0_row8\" class=\"row_heading level0 row8\" >8</th>\n",
       "                        <td id=\"T_5414b62e_5d1c_11ec_87ce_02cba411ec9drow8_col0\" class=\"data row8 col0\" >2.25</td>\n",
       "                        <td id=\"T_5414b62e_5d1c_11ec_87ce_02cba411ec9drow8_col1\" class=\"data row8 col1\" >3.0167%</td>\n",
       "                        <td id=\"T_5414b62e_5d1c_11ec_87ce_02cba411ec9drow8_col2\" class=\"data row8 col2\" >93.44181883%</td>\n",
       "                        <td id=\"T_5414b62e_5d1c_11ec_87ce_02cba411ec9drow8_col3\" class=\"data row8 col3\" >0.92010%</td>\n",
       "            </tr>\n",
       "            <tr>\n",
       "                        <th id=\"T_5414b62e_5d1c_11ec_87ce_02cba411ec9dlevel0_row9\" class=\"row_heading level0 row9\" >9</th>\n",
       "                        <td id=\"T_5414b62e_5d1c_11ec_87ce_02cba411ec9drow9_col0\" class=\"data row9 col0\" >2.50</td>\n",
       "                        <td id=\"T_5414b62e_5d1c_11ec_87ce_02cba411ec9drow9_col1\" class=\"data row9 col1\" >3.0991%</td>\n",
       "                        <td id=\"T_5414b62e_5d1c_11ec_87ce_02cba411ec9drow9_col2\" class=\"data row9 col2\" >92.54566396%</td>\n",
       "                        <td id=\"T_5414b62e_5d1c_11ec_87ce_02cba411ec9drow9_col3\" class=\"data row9 col3\" >1.11290%</td>\n",
       "            </tr>\n",
       "            <tr>\n",
       "                        <th id=\"T_5414b62e_5d1c_11ec_87ce_02cba411ec9dlevel0_row10\" class=\"row_heading level0 row10\" >10</th>\n",
       "                        <td id=\"T_5414b62e_5d1c_11ec_87ce_02cba411ec9drow10_col0\" class=\"data row10 col0\" >2.75</td>\n",
       "                        <td id=\"T_5414b62e_5d1c_11ec_87ce_02cba411ec9drow10_col1\" class=\"data row10 col1\" >3.1784%</td>\n",
       "                        <td id=\"T_5414b62e_5d1c_11ec_87ce_02cba411ec9drow10_col2\" class=\"data row10 col2\" >91.62685487%</td>\n",
       "                        <td id=\"T_5414b62e_5d1c_11ec_87ce_02cba411ec9drow10_col3\" class=\"data row10 col3\" >1.31260%</td>\n",
       "            </tr>\n",
       "            <tr>\n",
       "                        <th id=\"T_5414b62e_5d1c_11ec_87ce_02cba411ec9dlevel0_row11\" class=\"row_heading level0 row11\" >11</th>\n",
       "                        <td id=\"T_5414b62e_5d1c_11ec_87ce_02cba411ec9drow11_col0\" class=\"data row11 col0\" >3.00</td>\n",
       "                        <td id=\"T_5414b62e_5d1c_11ec_87ce_02cba411ec9drow11_col1\" class=\"data row11 col1\" >3.2540%</td>\n",
       "                        <td id=\"T_5414b62e_5d1c_11ec_87ce_02cba411ec9drow11_col2\" class=\"data row11 col2\" >90.68993239%</td>\n",
       "                        <td id=\"T_5414b62e_5d1c_11ec_87ce_02cba411ec9drow11_col3\" class=\"data row11 col3\" >1.51940%</td>\n",
       "            </tr>\n",
       "            <tr>\n",
       "                        <th id=\"T_5414b62e_5d1c_11ec_87ce_02cba411ec9dlevel0_row12\" class=\"row_heading level0 row12\" >12</th>\n",
       "                        <td id=\"T_5414b62e_5d1c_11ec_87ce_02cba411ec9drow12_col0\" class=\"data row12 col0\" >3.25</td>\n",
       "                        <td id=\"T_5414b62e_5d1c_11ec_87ce_02cba411ec9drow12_col1\" class=\"data row12 col1\" >3.3254%</td>\n",
       "                        <td id=\"T_5414b62e_5d1c_11ec_87ce_02cba411ec9drow12_col2\" class=\"data row12 col2\" >89.73959864%</td>\n",
       "                        <td id=\"T_5414b62e_5d1c_11ec_87ce_02cba411ec9drow12_col3\" class=\"data row12 col3\" >1.73520%</td>\n",
       "            </tr>\n",
       "            <tr>\n",
       "                        <th id=\"T_5414b62e_5d1c_11ec_87ce_02cba411ec9dlevel0_row13\" class=\"row_heading level0 row13\" >13</th>\n",
       "                        <td id=\"T_5414b62e_5d1c_11ec_87ce_02cba411ec9drow13_col0\" class=\"data row13 col0\" >3.50</td>\n",
       "                        <td id=\"T_5414b62e_5d1c_11ec_87ce_02cba411ec9drow13_col1\" class=\"data row13 col1\" >3.3930%</td>\n",
       "                        <td id=\"T_5414b62e_5d1c_11ec_87ce_02cba411ec9drow13_col2\" class=\"data row13 col2\" >88.77796222%</td>\n",
       "                        <td id=\"T_5414b62e_5d1c_11ec_87ce_02cba411ec9drow13_col3\" class=\"data row13 col3\" >1.95980%</td>\n",
       "            </tr>\n",
       "            <tr>\n",
       "                        <th id=\"T_5414b62e_5d1c_11ec_87ce_02cba411ec9dlevel0_row14\" class=\"row_heading level0 row14\" >14</th>\n",
       "                        <td id=\"T_5414b62e_5d1c_11ec_87ce_02cba411ec9drow14_col0\" class=\"data row14 col0\" >3.75</td>\n",
       "                        <td id=\"T_5414b62e_5d1c_11ec_87ce_02cba411ec9drow14_col1\" class=\"data row14 col1\" >3.4577%</td>\n",
       "                        <td id=\"T_5414b62e_5d1c_11ec_87ce_02cba411ec9drow14_col2\" class=\"data row14 col2\" >87.80496481%</td>\n",
       "                        <td id=\"T_5414b62e_5d1c_11ec_87ce_02cba411ec9drow14_col3\" class=\"data row14 col3\" >2.19160%</td>\n",
       "            </tr>\n",
       "            <tr>\n",
       "                        <th id=\"T_5414b62e_5d1c_11ec_87ce_02cba411ec9dlevel0_row15\" class=\"row_heading level0 row15\" >15</th>\n",
       "                        <td id=\"T_5414b62e_5d1c_11ec_87ce_02cba411ec9drow15_col0\" class=\"data row15 col0\" >4.00</td>\n",
       "                        <td id=\"T_5414b62e_5d1c_11ec_87ce_02cba411ec9drow15_col1\" class=\"data row15 col1\" >3.5200%</td>\n",
       "                        <td id=\"T_5414b62e_5d1c_11ec_87ce_02cba411ec9drow15_col2\" class=\"data row15 col2\" >86.82121097%</td>\n",
       "                        <td id=\"T_5414b62e_5d1c_11ec_87ce_02cba411ec9drow15_col3\" class=\"data row15 col3\" >2.42880%</td>\n",
       "            </tr>\n",
       "            <tr>\n",
       "                        <th id=\"T_5414b62e_5d1c_11ec_87ce_02cba411ec9dlevel0_row16\" class=\"row_heading level0 row16\" >16</th>\n",
       "                        <td id=\"T_5414b62e_5d1c_11ec_87ce_02cba411ec9drow16_col0\" class=\"data row16 col0\" >4.25</td>\n",
       "                        <td id=\"T_5414b62e_5d1c_11ec_87ce_02cba411ec9drow16_col1\" class=\"data row16 col1\" >3.5805%</td>\n",
       "                        <td id=\"T_5414b62e_5d1c_11ec_87ce_02cba411ec9drow16_col2\" class=\"data row16 col2\" >85.82644655%</td>\n",
       "                        <td id=\"T_5414b62e_5d1c_11ec_87ce_02cba411ec9drow16_col3\" class=\"data row16 col3\" >2.66910%</td>\n",
       "            </tr>\n",
       "            <tr>\n",
       "                        <th id=\"T_5414b62e_5d1c_11ec_87ce_02cba411ec9dlevel0_row17\" class=\"row_heading level0 row17\" >17</th>\n",
       "                        <td id=\"T_5414b62e_5d1c_11ec_87ce_02cba411ec9drow17_col0\" class=\"data row17 col0\" >4.50</td>\n",
       "                        <td id=\"T_5414b62e_5d1c_11ec_87ce_02cba411ec9drow17_col1\" class=\"data row17 col1\" >3.6393%</td>\n",
       "                        <td id=\"T_5414b62e_5d1c_11ec_87ce_02cba411ec9drow17_col2\" class=\"data row17 col2\" >84.82195305%</td>\n",
       "                        <td id=\"T_5414b62e_5d1c_11ec_87ce_02cba411ec9drow17_col3\" class=\"data row17 col3\" >2.91170%</td>\n",
       "            </tr>\n",
       "            <tr>\n",
       "                        <th id=\"T_5414b62e_5d1c_11ec_87ce_02cba411ec9dlevel0_row18\" class=\"row_heading level0 row18\" >18</th>\n",
       "                        <td id=\"T_5414b62e_5d1c_11ec_87ce_02cba411ec9drow18_col0\" class=\"data row18 col0\" >4.75</td>\n",
       "                        <td id=\"T_5414b62e_5d1c_11ec_87ce_02cba411ec9drow18_col1\" class=\"data row18 col1\" >3.6962%</td>\n",
       "                        <td id=\"T_5414b62e_5d1c_11ec_87ce_02cba411ec9drow18_col2\" class=\"data row18 col2\" >83.81019805%</td>\n",
       "                        <td id=\"T_5414b62e_5d1c_11ec_87ce_02cba411ec9drow18_col3\" class=\"data row18 col3\" >3.15620%</td>\n",
       "            </tr>\n",
       "            <tr>\n",
       "                        <th id=\"T_5414b62e_5d1c_11ec_87ce_02cba411ec9dlevel0_row19\" class=\"row_heading level0 row19\" >19</th>\n",
       "                        <td id=\"T_5414b62e_5d1c_11ec_87ce_02cba411ec9drow19_col0\" class=\"data row19 col0\" >5.00</td>\n",
       "                        <td id=\"T_5414b62e_5d1c_11ec_87ce_02cba411ec9drow19_col1\" class=\"data row19 col1\" >3.7510%</td>\n",
       "                        <td id=\"T_5414b62e_5d1c_11ec_87ce_02cba411ec9drow19_col2\" class=\"data row19 col2\" >82.79376887%</td>\n",
       "                        <td id=\"T_5414b62e_5d1c_11ec_87ce_02cba411ec9drow19_col3\" class=\"data row19 col3\" >3.40290%</td>\n",
       "            </tr>\n",
       "    </tbody></table>"
      ],
      "text/plain": [
       "<pandas.io.formats.style.Styler at 0x7f8c55e47c88>"
      ]
     },
     "execution_count": 4,
     "metadata": {},
     "output_type": "execute_result"
    }
   ],
   "source": [
    "data.style.format(frmt)"
   ]
  },
  {
   "cell_type": "markdown",
   "metadata": {},
   "source": [
    "## Modelo para un Cap y sus Caplets"
   ]
  },
  {
   "cell_type": "markdown",
   "metadata": {},
   "source": [
    "### Clase `Caplet`"
   ]
  },
  {
   "cell_type": "code",
   "execution_count": 5,
   "metadata": {
    "ExecuteTime": {
     "end_time": "2021-12-14T20:27:59.297286Z",
     "start_time": "2021-12-14T20:27:59.291367Z"
    }
   },
   "outputs": [],
   "source": [
    "@dataclass\n",
    "class Caplet:\n",
    "    notional: float\n",
    "    start_time: float\n",
    "    end_time: float\n",
    "    strike: float\n",
    "        \n",
    "    def get_yf(self):\n",
    "        return self.end_time - self.start_time"
   ]
  },
  {
   "cell_type": "markdown",
   "metadata": {},
   "source": [
    "### Alias `Cap`"
   ]
  },
  {
   "cell_type": "code",
   "execution_count": 6,
   "metadata": {
    "ExecuteTime": {
     "end_time": "2021-12-14T20:27:59.304963Z",
     "start_time": "2021-12-14T20:27:59.301358Z"
    }
   },
   "outputs": [],
   "source": [
    "Cap = Iterable[Caplet]"
   ]
  },
  {
   "cell_type": "markdown",
   "metadata": {},
   "source": [
    "### Factory Function"
   ]
  },
  {
   "cell_type": "code",
   "execution_count": 7,
   "metadata": {
    "ExecuteTime": {
     "end_time": "2021-12-14T20:27:59.313234Z",
     "start_time": "2021-12-14T20:27:59.307052Z"
    },
    "code_folding": [
     5
    ]
   },
   "outputs": [],
   "source": [
    "def make_cap(\n",
    "    strike: float,\n",
    "    num_caplets: int,\n",
    "    periodicity: float,\n",
    "    notional: float\n",
    ") -> Cap:\n",
    "    \"\"\"\n",
    "    Construye un Cap.\n",
    "    \n",
    "    - strike: strike del Cap.\n",
    "    - num_caplets: número de caplets. Debe incluir el caplet que comienza en `t = 0`.\n",
    "    - periodicity: periodicidad de los caplets (equivalente al tenor del índice). Se expresa en fracción\n",
    "    de año canónica, por ejemplo 3M -> 0.25, 6M -> .50.\n",
    "    - notional: nocional del CAP.\n",
    "    \"\"\"\n",
    "    result = []\n",
    "    for i in range(num_caplets):\n",
    "        start_time = i * periodicity\n",
    "        end_time = (i + 1) * periodicity\n",
    "        result.append(\n",
    "            Caplet(\n",
    "                notional=notional,\n",
    "                start_time=start_time,\n",
    "                end_time=end_time,\n",
    "                strike=strike\n",
    "            )\n",
    "        )\n",
    "    return result"
   ]
  },
  {
   "cell_type": "code",
   "execution_count": 8,
   "metadata": {
    "ExecuteTime": {
     "end_time": "2021-12-14T20:27:59.319227Z",
     "start_time": "2021-12-14T20:27:59.315659Z"
    }
   },
   "outputs": [],
   "source": [
    "test_cap = make_cap(\n",
    "    strike=.026,\n",
    "    num_caplets=4,\n",
    "    periodicity=.25,\n",
    "    notional=10000000\n",
    ")"
   ]
  },
  {
   "cell_type": "code",
   "execution_count": 9,
   "metadata": {
    "ExecuteTime": {
     "end_time": "2021-12-14T20:27:59.326573Z",
     "start_time": "2021-12-14T20:27:59.321429Z"
    }
   },
   "outputs": [
    {
     "data": {
      "text/plain": [
       "[Caplet(notional=10000000, start_time=0.0, end_time=0.25, strike=0.026),\n",
       " Caplet(notional=10000000, start_time=0.25, end_time=0.5, strike=0.026),\n",
       " Caplet(notional=10000000, start_time=0.5, end_time=0.75, strike=0.026),\n",
       " Caplet(notional=10000000, start_time=0.75, end_time=1.0, strike=0.026)]"
      ]
     },
     "execution_count": 9,
     "metadata": {},
     "output_type": "execute_result"
    }
   ],
   "source": [
    "test_cap"
   ]
  },
  {
   "cell_type": "markdown",
   "metadata": {},
   "source": [
    "## Modelo para la Curva Cero"
   ]
  },
  {
   "cell_type": "markdown",
   "metadata": {},
   "source": [
    "Se define una clase que contenga los factores de descuento de la curva cero cupón. La clase define un método de interpolación log-lineal en dichos factores de descuento."
   ]
  },
  {
   "cell_type": "code",
   "execution_count": 10,
   "metadata": {
    "ExecuteTime": {
     "end_time": "2021-12-14T20:27:59.344266Z",
     "start_time": "2021-12-14T20:27:59.329903Z"
    },
    "code_folding": []
   },
   "outputs": [],
   "source": [
    "@dataclass\n",
    "class DiscountFactorCurve:\n",
    "    tenors_dfs: Iterable[Tuple[float, float]]\n",
    "\n",
    "    def __post_init__(self):\n",
    "        self.tenors_dfs.sort(key=lambda x: x[0])\n",
    "\n",
    "    def get_df_at(self, t: float) -> float:\n",
    "        return math.exp(\n",
    "            np.interp(\n",
    "                t,\n",
    "                xp=[x[0] for x in self.tenors_dfs],\n",
    "                fp=[math.log(x[1]) for x in self.tenors_dfs],\n",
    "            ))\n",
    "\n",
    "    def get_linear_rate_at(self, t: float) -> float:\n",
    "        df = self.get_df_at(t)\n",
    "        return (1 / df - 1) / t\n",
    "    \n",
    "    def get_continous_rate_at(self, t: float) -> float:\n",
    "        df = self.get_df_at(t)\n",
    "        return -math.log(df) / t\n",
    "        \n",
    "    def get_df_fwd_between(self, t0: float, t1: float) -> float:\n",
    "        return self.get_df_at(t1) / self.get_df_at(t0)\n",
    "\n",
    "    def get_linear_fwd_rate_between(self, t0: float, t1: float) -> float:\n",
    "        df_fwd = self.get_df_fwd_between(t0, t1)\n",
    "        return (1 / df_fwd - 1) / (t1 - t0)"
   ]
  },
  {
   "cell_type": "markdown",
   "metadata": {},
   "source": [
    "Se obtiene la data y se da de alta el objeto."
   ]
  },
  {
   "cell_type": "code",
   "execution_count": 11,
   "metadata": {
    "ExecuteTime": {
     "end_time": "2021-12-14T20:27:59.351375Z",
     "start_time": "2021-12-14T20:27:59.346987Z"
    }
   },
   "outputs": [],
   "source": [
    "tenors_dfs = [(x[0], x[2]) for x in data.values]"
   ]
  },
  {
   "cell_type": "code",
   "execution_count": 12,
   "metadata": {
    "ExecuteTime": {
     "end_time": "2021-12-14T20:27:59.360530Z",
     "start_time": "2021-12-14T20:27:59.353961Z"
    }
   },
   "outputs": [
    {
     "data": {
      "text/plain": [
       "[(0.25, 0.9945795414988314),\n",
       " (0.5, 0.9885094864000967),\n",
       " (0.75, 0.9818987496182575),\n",
       " (1.0, 0.9748343859309748),\n",
       " (1.25, 0.9673842525560281),\n",
       " (1.5, 0.9595982496698358),\n",
       " (1.75, 0.9515030815707846),\n",
       " (2.0, 0.943108816587112),\n",
       " (2.25, 0.9344181882584228),\n",
       " (2.5, 0.925456639619877),\n",
       " (2.75, 0.9162685487133939),\n",
       " (3.0, 0.9068993238848506),\n",
       " (3.25, 0.8973959863734557),\n",
       " (3.5, 0.8877796221908567),\n",
       " (3.75, 0.8780496480797562),\n",
       " (4.0, 0.8682121096506916),\n",
       " (4.25, 0.858264465488608),\n",
       " (4.5, 0.8482195304644343),\n",
       " (4.75, 0.8381019804697758),\n",
       " (5.0, 0.8279376886770442)]"
      ]
     },
     "execution_count": 12,
     "metadata": {},
     "output_type": "execute_result"
    }
   ],
   "source": [
    "tenors_dfs"
   ]
  },
  {
   "cell_type": "markdown",
   "metadata": {},
   "source": [
    "### Se Prueban los Métodos"
   ]
  },
  {
   "cell_type": "markdown",
   "metadata": {},
   "source": [
    "No se trata de test unitarios tradicionales ya que los resultados no se comparan con resultados esperados."
   ]
  },
  {
   "cell_type": "code",
   "execution_count": 13,
   "metadata": {
    "ExecuteTime": {
     "end_time": "2021-12-14T20:27:59.369813Z",
     "start_time": "2021-12-14T20:27:59.363002Z"
    }
   },
   "outputs": [
    {
     "name": "stdout",
     "output_type": "stream",
     "text": [
      "0.9945795414988314\n",
      "0.02179999999999982\n",
      "1.0\n",
      "0.03363935188165268\n"
     ]
    }
   ],
   "source": [
    "df_curve = DiscountFactorCurve(tenors_dfs)\n",
    "print(df_curve.get_df_at(0.0))\n",
    "print(df_curve.get_linear_rate_at(.25))\n",
    "print(df_curve.get_df_fwd_between(0.0, .25))\n",
    "print(df_curve.get_linear_fwd_rate_between(1.0, 2.0))"
   ]
  },
  {
   "cell_type": "markdown",
   "metadata": {},
   "source": [
    "## Funciones de Valorización"
   ]
  },
  {
   "cell_type": "markdown",
   "metadata": {},
   "source": [
    "Las siguientes funciones permiten valorizar un caplet, y en consecuencia un cap, usando la volatilidad de mercado y la fórmula de Black-Scholes-Merton."
   ]
  },
  {
   "cell_type": "code",
   "execution_count": 14,
   "metadata": {
    "ExecuteTime": {
     "end_time": "2021-12-14T20:27:59.379765Z",
     "start_time": "2021-12-14T20:27:59.371539Z"
    },
    "code_folding": []
   },
   "outputs": [],
   "source": [
    "def value_caplet(\n",
    "    caplet: Caplet,\n",
    "    dfs: DiscountFactorCurve,\n",
    "    vol: float,\n",
    ") -> float:\n",
    "    if caplet.start_time < 0.0:\n",
    "        return 0.0\n",
    "    elif caplet.start_time == 0.0:\n",
    "        yf = caplet.get_yf()\n",
    "        fwd_rate = dfs.get_linear_fwd_rate_between(\n",
    "            caplet.start_time,\n",
    "            caplet.end_time\n",
    "        )\n",
    "        return caplet.notional * yf * max(fwd_rate - caplet.strike, 0.0)\n",
    "    else:\n",
    "        yf = caplet.get_yf()\n",
    "        fwd_rate = dfs.get_linear_fwd_rate_between(\n",
    "            caplet.start_time,\n",
    "            caplet.end_time\n",
    "        )\n",
    "        df = dfs.get_df_at(caplet.end_time)\n",
    "        sigma_sqrT = vol * math.sqrt(caplet.end_time)\n",
    "        d1 = (math.log(\n",
    "                fwd_rate / caplet.strike) + .5 * sigma_sqrT**2\n",
    "        ) / sigma_sqrT\n",
    "        d2 = d1 - sigma_sqrT\n",
    "        black = fwd_rate * norm.cdf(d1) - caplet.strike * norm.cdf(d2)\n",
    "        return caplet.notional * yf * df * black"
   ]
  },
  {
   "cell_type": "code",
   "execution_count": 15,
   "metadata": {
    "ExecuteTime": {
     "end_time": "2021-12-14T20:27:59.389267Z",
     "start_time": "2021-12-14T20:27:59.382542Z"
    }
   },
   "outputs": [
    {
     "data": {
      "text/plain": [
       "526.5648800994534"
      ]
     },
     "execution_count": 15,
     "metadata": {},
     "output_type": "execute_result"
    }
   ],
   "source": [
    "value_caplet(test_cap[1], df_curve, .1)"
   ]
  },
  {
   "cell_type": "code",
   "execution_count": 16,
   "metadata": {
    "ExecuteTime": {
     "end_time": "2021-12-14T20:27:59.397949Z",
     "start_time": "2021-12-14T20:27:59.392335Z"
    }
   },
   "outputs": [],
   "source": [
    "def value_cap(\n",
    "    cap: Cap,\n",
    "    dfs: DiscountFactorCurve,\n",
    "    vol: float\n",
    ") -> float:\n",
    "    return sum([value_caplet(caplet, dfs, vol) for caplet in cap])"
   ]
  },
  {
   "cell_type": "markdown",
   "metadata": {},
   "source": [
    "Se construyen todos los caps."
   ]
  },
  {
   "cell_type": "code",
   "execution_count": 17,
   "metadata": {
    "ExecuteTime": {
     "end_time": "2021-12-14T20:27:59.416254Z",
     "start_time": "2021-12-14T20:27:59.401689Z"
    }
   },
   "outputs": [],
   "source": [
    "all_caps = []\n",
    "for i in range(1, len(data)):\n",
    "    all_caps.append(\n",
    "        make_cap(\n",
    "            strike=data.iloc[i].tasa_swap,\n",
    "            num_caplets=i + 1,\n",
    "            periodicity=.25,\n",
    "            notional=10000000\n",
    "        )\n",
    "    )"
   ]
  },
  {
   "cell_type": "markdown",
   "metadata": {},
   "source": [
    "Se visualiza un Cap en particular."
   ]
  },
  {
   "cell_type": "code",
   "execution_count": 18,
   "metadata": {
    "ExecuteTime": {
     "end_time": "2021-12-14T20:27:59.428466Z",
     "start_time": "2021-12-14T20:27:59.419509Z"
    }
   },
   "outputs": [
    {
     "data": {
      "text/plain": [
       "[Caplet(notional=10000000, start_time=0.0, end_time=0.25, strike=0.02555),\n",
       " Caplet(notional=10000000, start_time=0.25, end_time=0.5, strike=0.02555),\n",
       " Caplet(notional=10000000, start_time=0.5, end_time=0.75, strike=0.02555),\n",
       " Caplet(notional=10000000, start_time=0.75, end_time=1.0, strike=0.02555)]"
      ]
     },
     "execution_count": 18,
     "metadata": {},
     "output_type": "execute_result"
    }
   ],
   "source": [
    "which_cap = 2\n",
    "all_caps[which_cap]"
   ]
  },
  {
   "cell_type": "markdown",
   "metadata": {},
   "source": [
    "Se valoriza cada Cap y se muestra el resultado. La valorización utiliza la volatilidad entregada en la data."
   ]
  },
  {
   "cell_type": "code",
   "execution_count": 19,
   "metadata": {
    "ExecuteTime": {
     "end_time": "2021-12-14T20:27:59.527640Z",
     "start_time": "2021-12-14T20:27:59.431090Z"
    }
   },
   "outputs": [
    {
     "name": "stdout",
     "output_type": "stream",
     "text": [
      "Valor de mercado del cap 1-esimo:     3,424\n",
      "Valor de mercado del cap 2-esimo:     6,514\n",
      "Valor de mercado del cap 3-esimo:     11,765\n",
      "Valor de mercado del cap 4-esimo:     16,901\n",
      "Valor de mercado del cap 5-esimo:     23,171\n",
      "Valor de mercado del cap 6-esimo:     29,880\n",
      "Valor de mercado del cap 7-esimo:     37,146\n",
      "Valor de mercado del cap 8-esimo:     45,481\n",
      "Valor de mercado del cap 9-esimo:     54,230\n",
      "Valor de mercado del cap 10-esimo:     63,832\n",
      "Valor de mercado del cap 11-esimo:     73,737\n",
      "Valor de mercado del cap 12-esimo:     83,977\n",
      "Valor de mercado del cap 13-esimo:     94,418\n",
      "Valor de mercado del cap 14-esimo:     105,113\n",
      "Valor de mercado del cap 15-esimo:     116,069\n",
      "Valor de mercado del cap 16-esimo:     127,336\n",
      "Valor de mercado del cap 17-esimo:     138,898\n",
      "Valor de mercado del cap 18-esimo:     150,699\n",
      "Valor de mercado del cap 19-esimo:     162,684\n"
     ]
    }
   ],
   "source": [
    "for which_cap, cap in enumerate(all_caps):\n",
    "    print(f'Valor de mercado del cap {which_cap + 1}-esimo: \\\n",
    "    {value_cap(cap, df_curve, data.iloc[which_cap + 1].cap_vol):,.0f}')"
   ]
  },
  {
   "cell_type": "markdown",
   "metadata": {},
   "source": [
    "## Funciones de Valorización HW"
   ]
  },
  {
   "cell_type": "code",
   "execution_count": 20,
   "metadata": {
    "ExecuteTime": {
     "end_time": "2021-12-14T20:27:59.540317Z",
     "start_time": "2021-12-14T20:27:59.530433Z"
    }
   },
   "outputs": [],
   "source": [
    "def value_caplet_hw(\n",
    "    caplet: Caplet,\n",
    "    dfs: DiscountFactorCurve,\n",
    "    gamma: float,\n",
    "    sigma: float,\n",
    ") -> float:\n",
    "    if caplet.start_time < 0.0:\n",
    "        return 0.0\n",
    "    elif caplet.start_time == 0.0:\n",
    "        yf = caplet.get_yf()\n",
    "        fwd_rate = dfs.get_linear_fwd_rate_between(\n",
    "            caplet.start_time,\n",
    "            caplet.end_time\n",
    "        )\n",
    "        return caplet.notional * yf * max(fwd_rate - caplet.strike, 0.0)\n",
    "    else:\n",
    "        yf = caplet.get_yf()\n",
    "        new_strike = 1 / (1 + caplet.strike * yf)\n",
    "        fwd_rate = dfs.get_linear_fwd_rate_between(\n",
    "            caplet.start_time,\n",
    "            caplet.end_time\n",
    "        )\n",
    "        new_notional = caplet.notional * (1 + caplet.strike * yf)\n",
    "        zo = dfs.get_df_at(caplet.start_time)\n",
    "        zb = dfs.get_df_at(caplet.end_time)\n",
    "        sz = hw.sz(\n",
    "            caplet.start_time,\n",
    "            caplet.end_time,\n",
    "            gamma,\n",
    "            sigma\n",
    "        )\n",
    "        r0 = dfs.get_continous_rate_at(\n",
    "            dfs.tenors_dfs[0][0]\n",
    "        )\n",
    "        # print(new_strike, zb/zo, r0)\n",
    "        return new_notional * hw.zcb_call_put(\n",
    "            hw.CallPut.PUT,\n",
    "            new_strike,\n",
    "            caplet.start_time,\n",
    "            caplet.end_time,\n",
    "            r0,\n",
    "            zo,\n",
    "            zb,\n",
    "            gamma,\n",
    "            sigma,\n",
    "        )"
   ]
  },
  {
   "cell_type": "code",
   "execution_count": 21,
   "metadata": {
    "ExecuteTime": {
     "end_time": "2021-12-14T20:27:59.547392Z",
     "start_time": "2021-12-14T20:27:59.542798Z"
    }
   },
   "outputs": [],
   "source": [
    "def value_cap_hw(\n",
    "    cap: Cap,\n",
    "    dfs: DiscountFactorCurve,\n",
    "    gamma: float,\n",
    "    sigma: float,\n",
    ") -> float:\n",
    "    return sum([value_caplet_hw(caplet, dfs, gamma, sigma) for caplet in cap])"
   ]
  },
  {
   "cell_type": "code",
   "execution_count": 22,
   "metadata": {
    "ExecuteTime": {
     "end_time": "2021-12-14T20:27:59.658899Z",
     "start_time": "2021-12-14T20:27:59.549985Z"
    }
   },
   "outputs": [
    {
     "name": "stdout",
     "output_type": "stream",
     "text": [
      "Valor de modelo del cap 1-esimo:     4,317\n",
      "Valor de modelo del cap 2-esimo:     9,342\n",
      "Valor de modelo del cap 3-esimo:     15,169\n",
      "Valor de modelo del cap 4-esimo:     21,746\n",
      "Valor de modelo del cap 5-esimo:     28,972\n",
      "Valor de modelo del cap 6-esimo:     36,803\n",
      "Valor de modelo del cap 7-esimo:     45,261\n",
      "Valor de modelo del cap 8-esimo:     54,399\n",
      "Valor de modelo del cap 9-esimo:     64,165\n",
      "Valor de modelo del cap 10-esimo:     74,411\n",
      "Valor de modelo del cap 11-esimo:     84,979\n",
      "Valor de modelo del cap 12-esimo:     95,700\n",
      "Valor de modelo del cap 13-esimo:     106,527\n",
      "Valor de modelo del cap 14-esimo:     117,517\n",
      "Valor de modelo del cap 15-esimo:     128,688\n",
      "Valor de modelo del cap 16-esimo:     140,100\n",
      "Valor de modelo del cap 17-esimo:     151,732\n",
      "Valor de modelo del cap 18-esimo:     163,508\n",
      "Valor de modelo del cap 19-esimo:     175,344\n"
     ]
    }
   ],
   "source": [
    "for which_cap, cap in enumerate(all_caps):\n",
    "    print(f'Valor de modelo del cap {which_cap + 1}-esimo: \\\n",
    "    {value_cap_hw(cap, df_curve, .5, .005):,.0f}')"
   ]
  },
  {
   "cell_type": "code",
   "execution_count": 23,
   "metadata": {
    "ExecuteTime": {
     "end_time": "2021-12-14T20:27:59.666816Z",
     "start_time": "2021-12-14T20:27:59.661092Z"
    }
   },
   "outputs": [],
   "source": [
    "def error(gamma_sigma: Iterable[float], *args) -> float:\n",
    "    caps = args[0]\n",
    "    dfs = args[1]\n",
    "    data = args[2]\n",
    "    result = 0.0\n",
    "    for i, cap in enumerate(caps):\n",
    "        result += (value_cap(cap, dfs, data.iloc[i + 1].cap_vol) - \n",
    "                   value_cap_hw(cap, dfs, gamma_sigma[0], gamma_sigma[1])) ** 2\n",
    "    return result"
   ]
  },
  {
   "cell_type": "code",
   "execution_count": 24,
   "metadata": {
    "ExecuteTime": {
     "end_time": "2021-12-14T20:27:59.855421Z",
     "start_time": "2021-12-14T20:27:59.669067Z"
    }
   },
   "outputs": [
    {
     "data": {
      "text/plain": [
       "1856995607.8310335"
      ]
     },
     "execution_count": 24,
     "metadata": {},
     "output_type": "execute_result"
    }
   ],
   "source": [
    "gs0 = [.5, .005]\n",
    "error(gs0, all_caps, df_curve, data)"
   ]
  },
  {
   "cell_type": "markdown",
   "metadata": {},
   "source": [
    "## Encuentra `gamma`y `sigma`"
   ]
  },
  {
   "cell_type": "code",
   "execution_count": 25,
   "metadata": {
    "ExecuteTime": {
     "end_time": "2021-12-14T20:28:12.533875Z",
     "start_time": "2021-12-14T20:27:59.858150Z"
    }
   },
   "outputs": [],
   "source": [
    "res = minimize(\n",
    "    error,\n",
    "    gs0,\n",
    "    args=(all_caps, df_curve, data),\n",
    "    # method='Powell',\n",
    "    bounds = [(0.0001, None), (0.0001, None)],\n",
    "    tol=1e-8\n",
    ")"
   ]
  },
  {
   "cell_type": "code",
   "execution_count": 26,
   "metadata": {
    "ExecuteTime": {
     "end_time": "2021-12-14T20:28:12.548904Z",
     "start_time": "2021-12-14T20:28:12.539244Z"
    }
   },
   "outputs": [
    {
     "data": {
      "text/plain": [
       "      fun: 6256168.711228065\n",
       " hess_inv: <2x2 LbfgsInvHessProduct with dtype=float64>\n",
       "      jac: array([7325758.22621963,   -9341.91048151])\n",
       "  message: b'CONVERGENCE: REL_REDUCTION_OF_F_<=_FACTR*EPSMCH'\n",
       "     nfev: 63\n",
       "      nit: 18\n",
       "     njev: 21\n",
       "   status: 0\n",
       "  success: True\n",
       "        x: array([0.0001    , 0.00097907])"
      ]
     },
     "execution_count": 26,
     "metadata": {},
     "output_type": "execute_result"
    }
   ],
   "source": [
    "res"
   ]
  }
 ],
 "metadata": {
  "hide_input": false,
  "kernelspec": {
   "display_name": "Python 3",
   "language": "python",
   "name": "python3"
  },
  "language_info": {
   "codemirror_mode": {
    "name": "ipython",
    "version": 3
   },
   "file_extension": ".py",
   "mimetype": "text/x-python",
   "name": "python",
   "nbconvert_exporter": "python",
   "pygments_lexer": "ipython3",
   "version": "3.7.3"
  },
  "toc": {
   "base_numbering": "23",
   "nav_menu": {},
   "number_sections": true,
   "sideBar": true,
   "skip_h1_title": false,
   "title_cell": "Table of Contents",
   "title_sidebar": "Contents",
   "toc_cell": false,
   "toc_position": {
    "height": "calc(100% - 180px)",
    "left": "10px",
    "top": "150px",
    "width": "225.4px"
   },
   "toc_section_display": true,
   "toc_window_display": true
  }
 },
 "nbformat": 4,
 "nbformat_minor": 4
}
