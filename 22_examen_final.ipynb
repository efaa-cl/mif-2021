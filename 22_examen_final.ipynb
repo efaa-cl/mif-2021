{
 "cells": [
  {
   "cell_type": "markdown",
   "metadata": {},
   "source": [
    "# Examen Final"
   ]
  },
  {
   "cell_type": "markdown",
   "metadata": {},
   "source": [
    "- Prender cámaras.\n",
    "- Puede utilizar sus apuntes.\n",
    "- Puede utilizar los notebooks del curso.\n",
    "- La alumna o alumno que sea sorprendido solicitando ayuda a cualquier persona, sea ella compañera o no, será calificada con un 2.\n",
    "- Cada pregunta vale un punto.\n",
    "- La nota mínima es un 2.\n",
    "- La nota se determinará con la siguiente fórmula $nota = \\min\\left(puntos + 2, 7\\right)$\n",
    "- Todas las funciones necesarias para resolver los ejercicios están ya importadas al notebook."
   ]
  },
  {
   "cell_type": "markdown",
   "metadata": {},
   "source": [
    "## Librerías"
   ]
  },
  {
   "cell_type": "code",
   "execution_count": 1,
   "metadata": {
    "ExecuteTime": {
     "end_time": "2021-12-10T19:37:01.225193Z",
     "start_time": "2021-12-10T19:37:00.107754Z"
    }
   },
   "outputs": [],
   "source": [
    "from finrisk import examen_final as ef\n",
    "from scipy.interpolate import interp1d\n",
    "import modules.hull_white as hw\n",
    "import pandas as pd\n",
    "import numpy as np\n",
    "import textwrap\n",
    "import random\n",
    "import math"
   ]
  },
  {
   "cell_type": "markdown",
   "metadata": {},
   "source": [
    "## Curva Cero Cupón"
   ]
  },
  {
   "cell_type": "markdown",
   "metadata": {},
   "source": [
    "Los plazos están en días y las tasas en convención exp act/365."
   ]
  },
  {
   "cell_type": "code",
   "execution_count": 2,
   "metadata": {
    "ExecuteTime": {
     "end_time": "2021-12-10T19:37:04.559060Z",
     "start_time": "2021-12-10T19:37:04.513457Z"
    }
   },
   "outputs": [],
   "source": [
    "df_curva = pd.read_excel('data/20201012_built_sofr_zero.xlsx')"
   ]
  },
  {
   "cell_type": "code",
   "execution_count": 3,
   "metadata": {
    "ExecuteTime": {
     "end_time": "2021-12-10T19:37:06.213826Z",
     "start_time": "2021-12-10T19:37:06.184422Z"
    }
   },
   "outputs": [
    {
     "data": {
      "text/html": [
       "<div>\n",
       "<style scoped>\n",
       "    .dataframe tbody tr th:only-of-type {\n",
       "        vertical-align: middle;\n",
       "    }\n",
       "\n",
       "    .dataframe tbody tr th {\n",
       "        vertical-align: top;\n",
       "    }\n",
       "\n",
       "    .dataframe thead th {\n",
       "        text-align: right;\n",
       "    }\n",
       "</style>\n",
       "<table border=\"1\" class=\"dataframe\">\n",
       "  <thead>\n",
       "    <tr style=\"text-align: right;\">\n",
       "      <th></th>\n",
       "      <th>plazo</th>\n",
       "      <th>tasa</th>\n",
       "      <th>df</th>\n",
       "    </tr>\n",
       "  </thead>\n",
       "  <tbody>\n",
       "    <tr>\n",
       "      <th>0</th>\n",
       "      <td>1</td>\n",
       "      <td>0.000811</td>\n",
       "      <td>0.999998</td>\n",
       "    </tr>\n",
       "    <tr>\n",
       "      <th>1</th>\n",
       "      <td>7</td>\n",
       "      <td>0.000841</td>\n",
       "      <td>0.999984</td>\n",
       "    </tr>\n",
       "    <tr>\n",
       "      <th>2</th>\n",
       "      <td>14</td>\n",
       "      <td>0.000780</td>\n",
       "      <td>0.999970</td>\n",
       "    </tr>\n",
       "    <tr>\n",
       "      <th>3</th>\n",
       "      <td>21</td>\n",
       "      <td>0.000774</td>\n",
       "      <td>0.999955</td>\n",
       "    </tr>\n",
       "    <tr>\n",
       "      <th>4</th>\n",
       "      <td>33</td>\n",
       "      <td>0.000781</td>\n",
       "      <td>0.999929</td>\n",
       "    </tr>\n",
       "  </tbody>\n",
       "</table>\n",
       "</div>"
      ],
      "text/plain": [
       "   plazo      tasa        df\n",
       "0      1  0.000811  0.999998\n",
       "1      7  0.000841  0.999984\n",
       "2     14  0.000780  0.999970\n",
       "3     21  0.000774  0.999955\n",
       "4     33  0.000781  0.999929"
      ]
     },
     "execution_count": 3,
     "metadata": {},
     "output_type": "execute_result"
    }
   ],
   "source": [
    "df_curva.head()"
   ]
  },
  {
   "cell_type": "code",
   "execution_count": 4,
   "metadata": {
    "ExecuteTime": {
     "end_time": "2021-12-10T19:37:08.794170Z",
     "start_time": "2021-12-10T19:37:08.786848Z"
    }
   },
   "outputs": [],
   "source": [
    "curva = interp1d(df_curva['plazo'], df_curva['tasa'], 'linear', fill_value='extrapolate')"
   ]
  },
  {
   "cell_type": "markdown",
   "metadata": {},
   "source": [
    "## Cálculo Opción"
   ]
  },
  {
   "cell_type": "markdown",
   "metadata": {},
   "source": [
    "Para identificar si es una Call o una Put se usa un `enum`."
   ]
  },
  {
   "cell_type": "code",
   "execution_count": 5,
   "metadata": {
    "ExecuteTime": {
     "end_time": "2021-12-10T19:37:12.034798Z",
     "start_time": "2021-12-10T19:37:12.029986Z"
    }
   },
   "outputs": [],
   "source": [
    "c_p = hw.CallPut.CALL\n",
    "c_p = hw.CallPut.PUT"
   ]
  },
  {
   "cell_type": "markdown",
   "metadata": {},
   "source": [
    "Ver toda la documentación:"
   ]
  },
  {
   "cell_type": "code",
   "execution_count": 6,
   "metadata": {
    "ExecuteTime": {
     "end_time": "2021-12-10T19:37:15.203995Z",
     "start_time": "2021-12-10T19:37:15.195425Z"
    }
   },
   "outputs": [
    {
     "name": "stdout",
     "output_type": "stream",
     "text": [
      "\n",
      "    Calcula el valor de una call o una put sobre un bono cero cupón en el modelo de HW.\n",
      "    \n",
      "    params:\n",
      "    \n",
      "    - c_p: indica si es la opción es Call o Put. Es un `enum` de tipo CallPut. Ejemplo, c_p = CallPut.CALL.\n",
      "    - strike: es el strike de la opción. Se ingresa como número. Un strike del 90% se ingresa como .9.\n",
      "    - r0: es la tasa corta al momento de valorizar la opción (t = 0).\n",
      "    - to: instante de tiempo en que vence la opción, expresado en años.\n",
      "    - tb: instante de tiempo en que vence el bono subyacente, expresado en años. Debe ser tb > to.\n",
      "    - zo: factor de descuento de mercado a tiempo t = 0 hasta to.\n",
      "    - zb: factor de descuento de mercado a tiempo t = 0 hasta tb.\n",
      "    - gamma: parámetro gamma del modelo HW.\n",
      "    - sigma: parámetro sigma del modelo HW.\n",
      "    \n",
      "    return:\n",
      "    \n",
      "    -  el valor de la opción.\n",
      "    \n"
     ]
    }
   ],
   "source": [
    "print(hw.zcb_call_put.__doc__)"
   ]
  },
  {
   "cell_type": "markdown",
   "metadata": {},
   "source": [
    "## Valores `gamma` y `sigma`"
   ]
  },
  {
   "cell_type": "code",
   "execution_count": 7,
   "metadata": {
    "ExecuteTime": {
     "end_time": "2021-12-10T19:37:19.509907Z",
     "start_time": "2021-12-10T19:37:19.504807Z"
    }
   },
   "outputs": [],
   "source": [
    "gamma = 1\n",
    "sigma = .005"
   ]
  },
  {
   "cell_type": "markdown",
   "metadata": {},
   "source": [
    "## Preguntas"
   ]
  },
  {
   "cell_type": "code",
   "execution_count": 10,
   "metadata": {
    "ExecuteTime": {
     "end_time": "2021-12-10T19:37:49.635368Z",
     "start_time": "2021-12-10T19:37:49.619653Z"
    },
    "hide_input": false
   },
   "outputs": [
    {
     "name": "stdout",
     "output_type": "stream",
     "text": [
      "Sólo puedes pedir las preguntas 1 vez.\n"
     ]
    }
   ],
   "source": [
    "try:\n",
    "    q = ef.get_questions()\n",
    "except Exception as e:\n",
    "    print(str(e))"
   ]
  },
  {
   "cell_type": "code",
   "execution_count": 9,
   "metadata": {
    "ExecuteTime": {
     "end_time": "2021-12-10T19:37:29.347812Z",
     "start_time": "2021-12-10T19:37:29.311922Z"
    },
    "hide_input": true
   },
   "outputs": [
    {
     "name": "stdout",
     "output_type": "stream",
     "text": [
      "Pregunta 1:\n",
      "\n",
      "Calcule la TNA con ICP0 = 10,000.00 e ICP365 = 10,020.00 (365 días después).\n",
      "\n",
      "\n",
      "Pregunta 2:\n",
      "\n",
      "Usando la curva cero cupón entregada, el modelo de Hull-White y parámetros gamma\n",
      "= 1.0 y sigma = 0.5% valorice una call a 1Y sobre un bono cero cupón a 2Y con un\n",
      "strike de 98.1%. Entregue el resultado 8 decimales y suponiendo un nocional de\n",
      "1.\n",
      "\n",
      "\n",
      "Pregunta 3:\n",
      "\n",
      "Calcule un paso de simulación de Montecarlo para el modelo de Vasicek usando\n",
      "gamma = 1.0, sigma = 0.5%, dt = 1/264, r0 obtenido de la curva cupón cero\n",
      "entregada y número aleatorio N(0, 1) igual a 1.6027 .\n",
      "\n",
      "\n",
      "Pregunta 4:\n",
      "\n",
      "Con la curva cero cupón, interpolando linealmente en tasa, calcule la tasa\n",
      "forward entre 4282 y 5454 días.\n",
      "\n",
      "\n",
      "Pregunta 5:\n",
      "\n",
      "Considere un swap a 1Y con cupones semestrales de 1.8% (lineal). Si la tasa\n",
      "cupón cero a 0.5Y es 1.7% (exp), calcule la tasa cero a 1Y.\n",
      "\n",
      "\n",
      "Pregunta 6:\n",
      "\n",
      "Explique la diferencia entre valorizar un payoff g(r(T), T) por simulación de\n",
      "Montecarlo utilizando el modelo de Hull-White en la medida libre de riesgo y el\n",
      "modelo de Hull-White en la medida T-forward.\n",
      "\n",
      "\n",
      "Pregunta 7:\n",
      "\n",
      "Ceteris paribus una opción sobre una activo con reversión a la media vale menos\n",
      "que una opción sobre un activo sin reversión a la media. Comente.\n",
      "\n",
      "\n"
     ]
    }
   ],
   "source": [
    "for qq in q:\n",
    "    print(f'{qq[0]}\\n')\n",
    "    print(textwrap.fill(f'{qq[1]}', 80))\n",
    "    print('\\n')"
   ]
  },
  {
   "cell_type": "markdown",
   "metadata": {},
   "source": [
    "## Respuestas"
   ]
  },
  {
   "cell_type": "markdown",
   "metadata": {},
   "source": [
    "Responder en el siguiente espacio. Por favor incluir explicaciones y comentarios para facilitar la labor de quien corrige."
   ]
  },
  {
   "cell_type": "markdown",
   "metadata": {},
   "source": [
    "### Pregunta 1"
   ]
  },
  {
   "cell_type": "code",
   "execution_count": null,
   "metadata": {},
   "outputs": [],
   "source": []
  },
  {
   "cell_type": "markdown",
   "metadata": {},
   "source": [
    "### Pregunta 2"
   ]
  },
  {
   "cell_type": "code",
   "execution_count": null,
   "metadata": {},
   "outputs": [],
   "source": []
  },
  {
   "cell_type": "markdown",
   "metadata": {},
   "source": [
    "### Pregunta 3"
   ]
  },
  {
   "cell_type": "code",
   "execution_count": null,
   "metadata": {},
   "outputs": [],
   "source": []
  },
  {
   "cell_type": "markdown",
   "metadata": {},
   "source": [
    "### Pregunta 4"
   ]
  },
  {
   "cell_type": "code",
   "execution_count": null,
   "metadata": {},
   "outputs": [],
   "source": []
  },
  {
   "cell_type": "markdown",
   "metadata": {
    "ExecuteTime": {
     "end_time": "2020-12-11T02:18:04.908007Z",
     "start_time": "2020-12-11T02:18:04.905073Z"
    }
   },
   "source": [
    "### Pregunta 5"
   ]
  },
  {
   "cell_type": "code",
   "execution_count": null,
   "metadata": {},
   "outputs": [],
   "source": []
  },
  {
   "cell_type": "markdown",
   "metadata": {},
   "source": [
    "### Pregunta 6"
   ]
  },
  {
   "cell_type": "code",
   "execution_count": null,
   "metadata": {},
   "outputs": [],
   "source": []
  },
  {
   "cell_type": "markdown",
   "metadata": {},
   "source": [
    "### Pregunta 7"
   ]
  },
  {
   "cell_type": "code",
   "execution_count": null,
   "metadata": {},
   "outputs": [],
   "source": []
  }
 ],
 "metadata": {
  "hide_input": false,
  "kernelspec": {
   "display_name": "Python 3",
   "language": "python",
   "name": "python3"
  },
  "language_info": {
   "codemirror_mode": {
    "name": "ipython",
    "version": 3
   },
   "file_extension": ".py",
   "mimetype": "text/x-python",
   "name": "python",
   "nbconvert_exporter": "python",
   "pygments_lexer": "ipython3",
   "version": "3.7.3"
  },
  "toc": {
   "base_numbering": "16",
   "nav_menu": {},
   "number_sections": true,
   "sideBar": true,
   "skip_h1_title": false,
   "title_cell": "Table of Contents",
   "title_sidebar": "Contenido",
   "toc_cell": false,
   "toc_position": {
    "height": "calc(100% - 180px)",
    "left": "10px",
    "top": "150px",
    "width": "165px"
   },
   "toc_section_display": true,
   "toc_window_display": false
  }
 },
 "nbformat": 4,
 "nbformat_minor": 4
}
